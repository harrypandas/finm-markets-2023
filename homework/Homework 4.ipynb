{
 "cells": [
  {
   "cell_type": "markdown",
   "id": "1964ee95",
   "metadata": {},
   "source": [
    "# Homework 4\n",
    "\n",
    "## Markets Foundations\n",
    "\n",
    "### UChicago Financial Mathematics\n",
    "\n",
    "#### September 2023\n",
    "\n",
    "* Mark Hendricks\n",
    "* hendricks@uchicago.edu\n",
    "\n",
    "#### This assignment is not submitted, graded, or for credit. \n",
    "Rather, it is assigned for learning purposes."
   ]
  },
  {
   "cell_type": "markdown",
   "id": "78016f7c",
   "metadata": {},
   "source": [
    "$\\newcommand{\\rUSD}{r^{\\text{US}}}$\n",
    "$\\newcommand{\\rGBP}{r^{\\text{GBP}}}$\n",
    "$\\newcommand{\\rxGBP}{\\widetilde{r}^{\\text{GBP}}}$"
   ]
  },
  {
   "cell_type": "markdown",
   "id": "d2337366",
   "metadata": {},
   "source": [
    "# Core Analysis\n",
    "\n",
    "## 1 Stack and Roll"
   ]
  },
  {
   "cell_type": "markdown",
   "id": "75404f2b",
   "metadata": {},
   "source": [
    "Use the data in `data/futures_data.xlsx`"
   ]
  },
  {
   "cell_type": "markdown",
   "id": "92418bf8",
   "metadata": {},
   "source": [
    "### 1.1\n",
    "\n",
    "The time-series data in `futures timeseries` has price data on 4 different crude oil contracts.\n",
    "\n",
    "Consider a **stack and roll** strategy. \n",
    "* Suppose on **November 15, 2022** an investor buys 100 contracts of gold futures, \"GCG3\", using end-of-day Nov 15, 2022 prices, and noting the contract size listed in the `futures contracts` tab. \n",
    "\n",
    "* On the final day of a reported price, (Feb 24, 2023 in this case,) sell the contracts at the listed price. Keep track of the daily profit or loss.\n",
    "* **Roll** into the next contract, \"GCJ3\", buying in at the Feb 24, 2023 price.\n",
    "* Hold this until rolling into GCM3, and finally GCQ3.\n",
    "* At each roll, buy 100 contracts.\n",
    "* Close out GCQ3 on June 30, 2023.\n",
    "\n",
    "Plot the timeseries of cumulative profit and loss.\n",
    "* Do not consider as a loss (profit) the additional capital contributed (withdrawn) at the roll.\n",
    "\n",
    "Report the mean daily profit as well as the cumulative total."
   ]
  },
  {
   "cell_type": "markdown",
   "id": "265a3604",
   "metadata": {},
   "source": [
    "### 1.2\n",
    "\n",
    "From the tab `roll conventions GC`, use the series, `GC1`. \n",
    "\n",
    "Assume this is a proxy for the stack and roll strategy above.\n",
    "* scale it by the contract size (100)\n",
    "* calculate the day-over-day differences as profit (loss).\n",
    "\n",
    "Does it match your answer in 1.1? Why not?\n",
    "\n",
    "### 1.3\n",
    "Would any of the alternate continuous contracts in the `roll conventions GC` tab be appropriate to proxy the stack-and-roll strategy?"
   ]
  },
  {
   "cell_type": "markdown",
   "id": "5298f140",
   "metadata": {},
   "source": [
    "***"
   ]
  },
  {
   "cell_type": "markdown",
   "id": "ac10f9b1",
   "metadata": {},
   "source": [
    "# Extra Analysis"
   ]
  },
  {
   "cell_type": "markdown",
   "id": "420cfcf5",
   "metadata": {},
   "source": [
    "## 2 Margin and Capital"
   ]
  },
  {
   "cell_type": "markdown",
   "id": "6774531a",
   "metadata": {},
   "source": [
    "Reconsider the stack and roll of Problem 1, but this time keep track of the margin account. Assume that...\n",
    "* when purchasing the contracts, an initial margin of \\\\$10,000 per contract is paid into the margin account, (not the entire purchase price!)\n",
    "* if the margin account goes below \\\\$9,000 per contract, you must pay additional capital to raise the margin back to \\\\$9,000 per contract..\n",
    "* if the margin account goes above \\\\$11,000 per contract, you take out the additional capital to lower the margin back to \\\\$11,000 per contract. \n",
    "* at the roll, add in (or take out) capital such that the margin account resets to the initial margin of \\\\$10,000 per contract.\n",
    "\n",
    "*This is a conceptually simple problem, but setting it up correctly in python may be challenging. Consider starting with a spreadsheet.*"
   ]
  },
  {
   "cell_type": "markdown",
   "id": "983440d5",
   "metadata": {},
   "source": [
    "### 2.1\n",
    "\n",
    "Plot the timeseries of the margin account.\n",
    "\n",
    "How many times is there a margin call to continue the contract position? (This does not include rolling contracts.)"
   ]
  },
  {
   "cell_type": "markdown",
   "id": "79524b83",
   "metadata": {},
   "source": [
    "### 2.2\n",
    "\n",
    "Consider two measures of total return on this strategy.\n",
    "\n",
    "$$\\text{return} = \\frac{\\text{total profit}}{\\text{initial capital}}$$\n",
    "\n",
    "where we measure the \"initial capital\" as...\n",
    "* total price of the 100 contracts of \"GCG3\" as paid in 1.1\n",
    "* initial margin for the 100 contracts, as calculated in 1.3.\n",
    "\n",
    "Ignore the fact that additional capital may have been paid in on the rolls.\n",
    "\n",
    "How does the margin system change the total return?"
   ]
  },
  {
   "cell_type": "markdown",
   "id": "920ac433",
   "metadata": {},
   "source": [
    "### 2.3\n",
    "\n",
    "Reconsider the calculation of profit from Problem 1.\n",
    "\n",
    "When the contract rolls, the investor may need to pay in additional capital to keep the 100 contracts. Consider this a loss.\n",
    "\n",
    "On the other hand, if rolling into the new contract frees up capital, consider this a profift.\n",
    "\n",
    "1. How does this change the total profit (loss)?\n",
    "1. How does this change the total return defined above?\n",
    "1. Do you think this roll capital should be considered P&L (profit and loss?)"
   ]
  },
  {
   "cell_type": "markdown",
   "id": "dec7f966",
   "metadata": {},
   "source": [
    "## 3 Dynamic Sizing\n",
    "\n",
    "Analyze the investment strategy from Section 1-2 above, but this time assuming that \n",
    "* total capital is rolled at each contract, rather than always resetting to a constant 100 contracts.\n",
    "* the capital is used to purchase as many new contracts as possible, and the remainder sits as cash, (earning no interest,) and available for deployment on the next roll.\n",
    "* the initial margin is 5\\% of the contract value at the time of the roll, the maintenance margin is 4.5\\% and the excess margin is 5.5\\%"
   ]
  },
  {
   "cell_type": "markdown",
   "id": "6cf1f847",
   "metadata": {},
   "source": [
    "***"
   ]
  }
 ],
 "metadata": {
  "hide_input": false,
  "kernelspec": {
   "display_name": "Python 3 (ipykernel)",
   "language": "python",
   "name": "python3"
  },
  "language_info": {
   "codemirror_mode": {
    "name": "ipython",
    "version": 3
   },
   "file_extension": ".py",
   "mimetype": "text/x-python",
   "name": "python",
   "nbconvert_exporter": "python",
   "pygments_lexer": "ipython3",
   "version": "3.9.6"
  },
  "toc": {
   "base_numbering": 1,
   "nav_menu": {},
   "number_sections": false,
   "sideBar": true,
   "skip_h1_title": false,
   "title_cell": "Table of Contents",
   "title_sidebar": "Contents",
   "toc_cell": false,
   "toc_position": {},
   "toc_section_display": true,
   "toc_window_display": false
  }
 },
 "nbformat": 4,
 "nbformat_minor": 5
}
