{
 "cells": [
  {
   "cell_type": "markdown",
   "id": "4f3e9c81",
   "metadata": {},
   "source": [
    "# Homework 2\n",
    "\n",
    "## Markets Foundations\n",
    "\n",
    "### UChicago Financial Mathematics\n",
    "\n",
    "#### September 2023\n",
    "\n",
    "* Mark Hendricks\n",
    "* hendricks@uchicago.edu\n",
    "\n",
    "#### This assignment is not submitted, graded, or for credit. \n",
    "Rather, it is assigned for learning purposes."
   ]
  },
  {
   "cell_type": "markdown",
   "id": "1989cc3a",
   "metadata": {},
   "source": [
    "***"
   ]
  },
  {
   "cell_type": "markdown",
   "id": "0f8ec6cd",
   "metadata": {},
   "source": [
    "# 1 Money Market Rates"
   ]
  },
  {
   "cell_type": "markdown",
   "id": "5da5eb17",
   "metadata": {},
   "source": [
    "Use the data in `data/ref_rates.xlsx` to explore several key money-market rates.\n",
    "* SOFR\n",
    "* Fed funds\n",
    "* 3-month T-bill yield\n",
    "\n",
    "\n",
    "## 1.1\n",
    "Plot the time series.\n",
    "\n",
    "## 1.2\n",
    "Calculate the correlation between the three rates (filtering to the dates for which they all have reported values.)\n",
    "\n",
    "Do this correlation analysis for the data in\n",
    "* levels (as provided)\n",
    "* differences (day-over-day changes)"
   ]
  },
  {
   "cell_type": "markdown",
   "id": "6f497d4c",
   "metadata": {},
   "source": [
    "***"
   ]
  },
  {
   "cell_type": "markdown",
   "id": "2beaff86",
   "metadata": {},
   "source": [
    "# 2. Discounting and Cashflows\n",
    "\n",
    "Consider the treasuries listed in `'../data/selected_treasury_rates.xlsx.` Suppose the date of our analysis is `June 30, 2023`.\n",
    "\n",
    "Note:\n",
    "* For our purposes, consider the maturities to be exact 6-month intervals.\n",
    "\n",
    "## 2.1\n",
    "Price the treasuries.\n",
    "* Ignore the provided market quote in the data, and use the price formula, (as a function of ytm,) to get the theoretical price.\n",
    "* Note that this will **not** match the market quoted prices in the data due to a few simplifications made.\n",
    "\n",
    "## 2.2\n",
    "Suppose that for each treasury, both the YTM and coupon rate increase by 0.5\\%. \n",
    "* What is the revised price of the treasuries? \n",
    "* How do they compare to the theoretical prices of 2.1? Is this a surprise?"
   ]
  }
 ],
 "metadata": {
  "hide_input": false,
  "kernelspec": {
   "display_name": "Python 3 (ipykernel)",
   "language": "python",
   "name": "python3"
  },
  "language_info": {
   "codemirror_mode": {
    "name": "ipython",
    "version": 3
   },
   "file_extension": ".py",
   "mimetype": "text/x-python",
   "name": "python",
   "nbconvert_exporter": "python",
   "pygments_lexer": "ipython3",
   "version": "3.9.6"
  },
  "toc": {
   "base_numbering": 1,
   "nav_menu": {},
   "number_sections": false,
   "sideBar": true,
   "skip_h1_title": false,
   "title_cell": "Table of Contents",
   "title_sidebar": "Contents",
   "toc_cell": false,
   "toc_position": {},
   "toc_section_display": true,
   "toc_window_display": false
  }
 },
 "nbformat": 4,
 "nbformat_minor": 5
}
