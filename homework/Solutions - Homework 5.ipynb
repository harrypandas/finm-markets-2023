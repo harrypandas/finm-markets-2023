{
 "cells": [
  {
   "cell_type": "markdown",
   "id": "f35fd5de",
   "metadata": {},
   "source": [
    "# Solutions - Homework 5\n",
    "\n",
    "## Markets Foundations\n",
    "\n",
    "### UChicago Financial Mathematics\n",
    "\n",
    "#### September 2023\n",
    "\n",
    "* Mark Hendricks\n",
    "* hendricks@uchicago.edu\n",
    "\n",
    "#### This assignment is not submitted, graded, or for credit. \n",
    "Rather, it is assigned for learning purposes."
   ]
  },
  {
   "cell_type": "markdown",
   "id": "d8191afd",
   "metadata": {},
   "source": [
    "## 1 Calculating Returns"
   ]
  },
  {
   "cell_type": "markdown",
   "id": "d77832c2",
   "metadata": {},
   "source": [
    "Use the data in `data/equity_data.xlsx`\n",
    "* tab `prices AAPL`: columns `Unadjusted Price` and `Adjusted Price`\n",
    "* tab  `dividends AAPL`: columns `ex_date` and `dividend_amount`\n",
    "\n",
    "### 1.1\n",
    "For the most recent 2 dividend dates, calculate the one-day return to AAPL using the unadjusted price and the dividend amount. \n",
    "\n",
    "That is, for a given dividend, calculate the return for the day prior to the \"ex date\" and ending on the \"ex date\". Do this for at least the most recent two dividends. (Though it is probably just as easy to adjust the return on every dividend date.)\n",
    "\n",
    "How close is this to the return calculated from the adjusted price percentage change?\n",
    "\n",
    "### 1.2\n",
    "For the most recent stock split, (see multiple in `dividend_amount` and indicated in the column `dividend_type`,) calculate the return to AAPL using the unadjusted price along with this split and dividend info.\n",
    "\n",
    "How close is this computed return to that calculated from the adjusted price growth?"
   ]
  },
  {
   "cell_type": "markdown",
   "id": "d83fa871",
   "metadata": {},
   "source": [
    "## 2 Stock Sensitivity\n",
    "\n",
    "Use the data in `data/equity_data.xlsx`, in the tab `etf history`.\n",
    "\n",
    "For the ETFs listed in `etf history`, calculate their percentage change over time. (These are adjusted prices, so this is a measure of their returns.)\n",
    "\n",
    "## 2.1\n",
    "Report the correlation table.\n",
    "\n",
    "## 2.2\n",
    "\n",
    "In equities, there is an important metric: a stock's **beta**:\n",
    "\n",
    "$$r_t = \\alpha + \\beta r^{\\text{SPY}}_t + \\epsilon_t$$\n",
    "\n",
    "This beta is analyzed with respect to many factors, but it is most widely analyzed with respect to the S&P 500 (or a similar, broad equity index. Thus the notation $r^{\\text{SPY}}_t$ on the right-hand side.\n",
    "\n",
    "### Calculation\n",
    "For each ETF return series, estimate the regression above. (You will estimate many regressions, in a loop, each using SPY as the right-hand-side factor.)\n",
    "\n",
    "Report these betas. Which ETF has the most overall stock-market risk?\n",
    "\n",
    "#### Hint: \n",
    "\n",
    "To estimate the regression, consider using the following approach:\n",
    "\n",
    "`from sklearn.linear_model import LinearRegression`\n",
    "\n",
    "`LinearRegression().fit(X,y).coef_`"
   ]
  },
  {
   "cell_type": "markdown",
   "id": "07fc9dd9",
   "metadata": {},
   "source": [
    "***"
   ]
  },
  {
   "cell_type": "markdown",
   "id": "067c4b0c",
   "metadata": {},
   "source": [
    "# <span style=\"color:red\">Solutions</span>"
   ]
  },
  {
   "cell_type": "code",
   "execution_count": 1,
   "id": "e7c722a1",
   "metadata": {},
   "outputs": [],
   "source": [
    "import pandas as pd\n",
    "import numpy as np\n",
    "import datetime\n",
    "import warnings\n",
    "\n",
    "import matplotlib.pyplot as plt\n",
    "import seaborn as sns\n",
    "%matplotlib inline\n",
    "plt.rcParams['figure.figsize'] = (12,6)\n",
    "plt.rcParams['font.size'] = 15\n",
    "plt.rcParams['legend.fontsize'] = 13\n",
    "\n",
    "from matplotlib.ticker import (MultipleLocator,\n",
    "                               FormatStrFormatter,\n",
    "                               AutoMinorLocator)\n",
    "import sys\n",
    "sys.path.insert(0, '../cmds')\n",
    "from portfolio import *"
   ]
  },
  {
   "cell_type": "markdown",
   "id": "93a0d004",
   "metadata": {},
   "source": [
    "## <span style=\"color:red\">Solution 1</span>"
   ]
  },
  {
   "cell_type": "code",
   "execution_count": 2,
   "id": "42adb0f2",
   "metadata": {},
   "outputs": [
    {
     "data": {
      "text/html": [
       "<div>\n",
       "<style scoped>\n",
       "    .dataframe tbody tr th:only-of-type {\n",
       "        vertical-align: middle;\n",
       "    }\n",
       "\n",
       "    .dataframe tbody tr th {\n",
       "        vertical-align: top;\n",
       "    }\n",
       "\n",
       "    .dataframe thead th {\n",
       "        text-align: right;\n",
       "    }\n",
       "</style>\n",
       "<table border=\"1\" class=\"dataframe\">\n",
       "  <thead>\n",
       "    <tr style=\"text-align: right;\">\n",
       "      <th></th>\n",
       "      <th>record_date</th>\n",
       "      <th>declared_date</th>\n",
       "      <th>payable_date</th>\n",
       "      <th>dividend_amount</th>\n",
       "      <th>dividend_frequency</th>\n",
       "      <th>dividend_type</th>\n",
       "    </tr>\n",
       "    <tr>\n",
       "      <th>ex_date</th>\n",
       "      <th></th>\n",
       "      <th></th>\n",
       "      <th></th>\n",
       "      <th></th>\n",
       "      <th></th>\n",
       "      <th></th>\n",
       "    </tr>\n",
       "  </thead>\n",
       "  <tbody>\n",
       "    <tr>\n",
       "      <th>2022-05-06</th>\n",
       "      <td>2022-05-09</td>\n",
       "      <td>2022-04-28</td>\n",
       "      <td>2022-05-12</td>\n",
       "      <td>0.230000</td>\n",
       "      <td>Quarter</td>\n",
       "      <td>Regular Cash</td>\n",
       "    </tr>\n",
       "    <tr>\n",
       "      <th>2022-02-04</th>\n",
       "      <td>2022-02-07</td>\n",
       "      <td>2022-01-27</td>\n",
       "      <td>2022-02-10</td>\n",
       "      <td>0.220000</td>\n",
       "      <td>Quarter</td>\n",
       "      <td>Regular Cash</td>\n",
       "    </tr>\n",
       "    <tr>\n",
       "      <th>2021-11-05</th>\n",
       "      <td>2021-11-08</td>\n",
       "      <td>2021-10-28</td>\n",
       "      <td>2021-11-11</td>\n",
       "      <td>0.220000</td>\n",
       "      <td>Quarter</td>\n",
       "      <td>Regular Cash</td>\n",
       "    </tr>\n",
       "    <tr>\n",
       "      <th>2021-08-06</th>\n",
       "      <td>2021-08-09</td>\n",
       "      <td>2021-07-27</td>\n",
       "      <td>2021-08-12</td>\n",
       "      <td>0.220000</td>\n",
       "      <td>Quarter</td>\n",
       "      <td>Regular Cash</td>\n",
       "    </tr>\n",
       "    <tr>\n",
       "      <th>2021-05-07</th>\n",
       "      <td>2021-05-10</td>\n",
       "      <td>2021-04-28</td>\n",
       "      <td>2021-05-13</td>\n",
       "      <td>0.220000</td>\n",
       "      <td>Quarter</td>\n",
       "      <td>Regular Cash</td>\n",
       "    </tr>\n",
       "    <tr>\n",
       "      <th>...</th>\n",
       "      <td>...</td>\n",
       "      <td>...</td>\n",
       "      <td>...</td>\n",
       "      <td>...</td>\n",
       "      <td>...</td>\n",
       "      <td>...</td>\n",
       "    </tr>\n",
       "    <tr>\n",
       "      <th>1988-02-12</th>\n",
       "      <td>1988-02-19</td>\n",
       "      <td>1988-01-28</td>\n",
       "      <td>1988-03-15</td>\n",
       "      <td>0.000714</td>\n",
       "      <td>Quarter</td>\n",
       "      <td>Regular Cash</td>\n",
       "    </tr>\n",
       "    <tr>\n",
       "      <th>1987-11-17</th>\n",
       "      <td>1987-11-23</td>\n",
       "      <td>1987-11-12</td>\n",
       "      <td>1987-12-15</td>\n",
       "      <td>0.000714</td>\n",
       "      <td>Quarter</td>\n",
       "      <td>Regular Cash</td>\n",
       "    </tr>\n",
       "    <tr>\n",
       "      <th>1987-08-10</th>\n",
       "      <td>1987-08-14</td>\n",
       "      <td>1987-07-31</td>\n",
       "      <td>1987-09-15</td>\n",
       "      <td>0.000536</td>\n",
       "      <td>Quarter</td>\n",
       "      <td>Regular Cash</td>\n",
       "    </tr>\n",
       "    <tr>\n",
       "      <th>1987-06-16</th>\n",
       "      <td>1987-05-15</td>\n",
       "      <td>1987-04-22</td>\n",
       "      <td>1987-06-15</td>\n",
       "      <td>2.000000</td>\n",
       "      <td>None</td>\n",
       "      <td>Stock Split</td>\n",
       "    </tr>\n",
       "    <tr>\n",
       "      <th>1987-05-11</th>\n",
       "      <td>1987-05-15</td>\n",
       "      <td>1987-04-22</td>\n",
       "      <td>1987-06-15</td>\n",
       "      <td>0.000536</td>\n",
       "      <td>Quarter</td>\n",
       "      <td>Regular Cash</td>\n",
       "    </tr>\n",
       "  </tbody>\n",
       "</table>\n",
       "<p>81 rows × 6 columns</p>\n",
       "</div>"
      ],
      "text/plain": [
       "           record_date declared_date payable_date  dividend_amount  \\\n",
       "ex_date                                                              \n",
       "2022-05-06  2022-05-09    2022-04-28   2022-05-12         0.230000   \n",
       "2022-02-04  2022-02-07    2022-01-27   2022-02-10         0.220000   \n",
       "2021-11-05  2021-11-08    2021-10-28   2021-11-11         0.220000   \n",
       "2021-08-06  2021-08-09    2021-07-27   2021-08-12         0.220000   \n",
       "2021-05-07  2021-05-10    2021-04-28   2021-05-13         0.220000   \n",
       "...                ...           ...          ...              ...   \n",
       "1988-02-12  1988-02-19    1988-01-28   1988-03-15         0.000714   \n",
       "1987-11-17  1987-11-23    1987-11-12   1987-12-15         0.000714   \n",
       "1987-08-10  1987-08-14    1987-07-31   1987-09-15         0.000536   \n",
       "1987-06-16  1987-05-15    1987-04-22   1987-06-15         2.000000   \n",
       "1987-05-11  1987-05-15    1987-04-22   1987-06-15         0.000536   \n",
       "\n",
       "           dividend_frequency dividend_type  \n",
       "ex_date                                      \n",
       "2022-05-06            Quarter  Regular Cash  \n",
       "2022-02-04            Quarter  Regular Cash  \n",
       "2021-11-05            Quarter  Regular Cash  \n",
       "2021-08-06            Quarter  Regular Cash  \n",
       "2021-05-07            Quarter  Regular Cash  \n",
       "...                       ...           ...  \n",
       "1988-02-12            Quarter  Regular Cash  \n",
       "1987-11-17            Quarter  Regular Cash  \n",
       "1987-08-10            Quarter  Regular Cash  \n",
       "1987-06-16               None   Stock Split  \n",
       "1987-05-11            Quarter  Regular Cash  \n",
       "\n",
       "[81 rows x 6 columns]"
      ]
     },
     "execution_count": 2,
     "metadata": {},
     "output_type": "execute_result"
    }
   ],
   "source": [
    "LOADFILE = '../data/equity_data.xlsx'\n",
    "TICK = 'AAPL'\n",
    "TAB = f'prices {TICK}'\n",
    "px = pd.read_excel(LOADFILE,sheet_name=TAB).set_index('date')\n",
    "\n",
    "TAB = f'dividends {TICK}'\n",
    "dvds = pd.read_excel(LOADFILE,sheet_name=TAB).set_index('ex_date')\n",
    "dvds"
   ]
  },
  {
   "cell_type": "markdown",
   "id": "64bd628c",
   "metadata": {},
   "source": [
    "### 1.1\n",
    "\n",
    "With the adjustments, returns are identical up to 4 decimal places."
   ]
  },
  {
   "cell_type": "code",
   "execution_count": 3,
   "id": "083b1553",
   "metadata": {},
   "outputs": [],
   "source": [
    "rets = px.pct_change()\n",
    "rets['Unadjusted Price Modified'] = rets.copy()['Unadjusted Price']\n",
    "\n",
    "for dt in dvds.index:\n",
    "    if dt in rets.index:\n",
    "        if dvds.loc[dt,'dividend_type']=='Regular Cash':\n",
    "            rets.loc[dt,'Unadjusted Price Modified'] = (px.loc[dt,'Unadjusted Price'] + dvds.loc[dt,'dividend_amount']) / px['Unadjusted Price'].shift().loc[dt] - 1\n",
    "\n",
    "        elif dvds.loc[dt,'dividend_type']=='Stock Split':\n",
    "            rets.loc[dt,'Unadjusted Price Modified'] = dvds.loc[dt,'dividend_amount'] * px.loc[dt,'Unadjusted Price'] / px['Unadjusted Price'].shift().loc[dt] - 1"
   ]
  },
  {
   "cell_type": "code",
   "execution_count": 4,
   "id": "b6b376a4",
   "metadata": {},
   "outputs": [
    {
     "data": {
      "text/html": [
       "<style type=\"text/css\">\n",
       "</style>\n",
       "<table id=\"T_24eb8\">\n",
       "  <thead>\n",
       "    <tr>\n",
       "      <th class=\"blank level0\" >&nbsp;</th>\n",
       "      <th id=\"T_24eb8_level0_col0\" class=\"col_heading level0 col0\" >Adjusted Price</th>\n",
       "      <th id=\"T_24eb8_level0_col1\" class=\"col_heading level0 col1\" >Unadjusted Price</th>\n",
       "      <th id=\"T_24eb8_level0_col2\" class=\"col_heading level0 col2\" >Unadjusted Price Modified</th>\n",
       "    </tr>\n",
       "    <tr>\n",
       "      <th class=\"index_name level0\" >ex_date</th>\n",
       "      <th class=\"blank col0\" >&nbsp;</th>\n",
       "      <th class=\"blank col1\" >&nbsp;</th>\n",
       "      <th class=\"blank col2\" >&nbsp;</th>\n",
       "    </tr>\n",
       "  </thead>\n",
       "  <tbody>\n",
       "    <tr>\n",
       "      <th id=\"T_24eb8_level0_row0\" class=\"row_heading level0 row0\" >2022-05-06 00:00:00</th>\n",
       "      <td id=\"T_24eb8_row0_col0\" class=\"data row0 col0\" >0.4727%</td>\n",
       "      <td id=\"T_24eb8_row0_col1\" class=\"data row0 col1\" >0.3253%</td>\n",
       "      <td id=\"T_24eb8_row0_col2\" class=\"data row0 col2\" >0.4720%</td>\n",
       "    </tr>\n",
       "    <tr>\n",
       "      <th id=\"T_24eb8_level0_row1\" class=\"row_heading level0 row1\" >2022-02-04 00:00:00</th>\n",
       "      <td id=\"T_24eb8_row1_col0\" class=\"data row1 col0\" >-0.1682%</td>\n",
       "      <td id=\"T_24eb8_row1_col1\" class=\"data row1 col1\" >-0.2950%</td>\n",
       "      <td id=\"T_24eb8_row1_col2\" class=\"data row1 col2\" >-0.1677%</td>\n",
       "    </tr>\n",
       "  </tbody>\n",
       "</table>\n"
      ],
      "text/plain": [
       "<pandas.io.formats.style.Styler at 0x1276d1460>"
      ]
     },
     "execution_count": 4,
     "metadata": {},
     "output_type": "execute_result"
    }
   ],
   "source": [
    "rets.loc[dvds.index[0:2],:].style.format('{:.4%}')"
   ]
  },
  {
   "cell_type": "markdown",
   "id": "4ff5c7c1",
   "metadata": {},
   "source": [
    "### 1.2\n",
    "\n",
    "By adjusting for the split, we get almost the exact same return as the \"Adjusted Price\" series.\n",
    "\n",
    "Note that the \"Unadjusted Price\" would show a loss of nearly 75%!"
   ]
  },
  {
   "cell_type": "code",
   "execution_count": 5,
   "id": "b307b068",
   "metadata": {},
   "outputs": [
    {
     "data": {
      "text/html": [
       "<style type=\"text/css\">\n",
       "</style>\n",
       "<table id=\"T_5547c\">\n",
       "  <thead>\n",
       "    <tr>\n",
       "      <th class=\"blank level0\" >&nbsp;</th>\n",
       "      <th id=\"T_5547c_level0_col0\" class=\"col_heading level0 col0\" >2020-08-31 00:00:00</th>\n",
       "    </tr>\n",
       "  </thead>\n",
       "  <tbody>\n",
       "    <tr>\n",
       "      <th id=\"T_5547c_level0_row0\" class=\"row_heading level0 row0\" >Adjusted Price</th>\n",
       "      <td id=\"T_5547c_row0_col0\" class=\"data row0 col0\" >3.3914%</td>\n",
       "    </tr>\n",
       "    <tr>\n",
       "      <th id=\"T_5547c_level0_row1\" class=\"row_heading level0 row1\" >Unadjusted Price</th>\n",
       "      <td id=\"T_5547c_row1_col0\" class=\"data row1 col0\" >-74.1522%</td>\n",
       "    </tr>\n",
       "    <tr>\n",
       "      <th id=\"T_5547c_level0_row2\" class=\"row_heading level0 row2\" >Unadjusted Price Modified</th>\n",
       "      <td id=\"T_5547c_row2_col0\" class=\"data row2 col0\" >3.3912%</td>\n",
       "    </tr>\n",
       "  </tbody>\n",
       "</table>\n"
      ],
      "text/plain": [
       "<pandas.io.formats.style.Styler at 0x1275d5160>"
      ]
     },
     "execution_count": 5,
     "metadata": {},
     "output_type": "execute_result"
    }
   ],
   "source": [
    "rets.loc[dvds[dvds['dividend_type']=='Stock Split'].index[0]].to_frame().style.format('{:.4%}')"
   ]
  },
  {
   "cell_type": "markdown",
   "id": "1541a20a",
   "metadata": {},
   "source": [
    "### Extra Analysis\n",
    "\n",
    "#### Correlation\n",
    "\n",
    "The unadjusted price series return has relatively low correlation with the adjusted series. \n",
    "\n",
    "However, after the modifications made above, it is over 99% correlated."
   ]
  },
  {
   "cell_type": "code",
   "execution_count": 6,
   "id": "c05595d2",
   "metadata": {},
   "outputs": [
    {
     "data": {
      "text/html": [
       "<style type=\"text/css\">\n",
       "</style>\n",
       "<table id=\"T_f0a4a\">\n",
       "  <thead>\n",
       "    <tr>\n",
       "      <th class=\"blank level0\" >&nbsp;</th>\n",
       "      <th id=\"T_f0a4a_level0_col0\" class=\"col_heading level0 col0\" >Adjusted Price</th>\n",
       "      <th id=\"T_f0a4a_level0_col1\" class=\"col_heading level0 col1\" >Unadjusted Price</th>\n",
       "      <th id=\"T_f0a4a_level0_col2\" class=\"col_heading level0 col2\" >Unadjusted Price Modified</th>\n",
       "    </tr>\n",
       "  </thead>\n",
       "  <tbody>\n",
       "    <tr>\n",
       "      <th id=\"T_f0a4a_level0_row0\" class=\"row_heading level0 row0\" >Adjusted Price</th>\n",
       "      <td id=\"T_f0a4a_row0_col0\" class=\"data row0 col0\" >100.0%</td>\n",
       "      <td id=\"T_f0a4a_row0_col1\" class=\"data row0 col1\" >74.3%</td>\n",
       "      <td id=\"T_f0a4a_row0_col2\" class=\"data row0 col2\" >100.0%</td>\n",
       "    </tr>\n",
       "    <tr>\n",
       "      <th id=\"T_f0a4a_level0_row1\" class=\"row_heading level0 row1\" >Unadjusted Price</th>\n",
       "      <td id=\"T_f0a4a_row1_col0\" class=\"data row1 col0\" >74.3%</td>\n",
       "      <td id=\"T_f0a4a_row1_col1\" class=\"data row1 col1\" >100.0%</td>\n",
       "      <td id=\"T_f0a4a_row1_col2\" class=\"data row1 col2\" >74.3%</td>\n",
       "    </tr>\n",
       "    <tr>\n",
       "      <th id=\"T_f0a4a_level0_row2\" class=\"row_heading level0 row2\" >Unadjusted Price Modified</th>\n",
       "      <td id=\"T_f0a4a_row2_col0\" class=\"data row2 col0\" >100.0%</td>\n",
       "      <td id=\"T_f0a4a_row2_col1\" class=\"data row2 col1\" >74.3%</td>\n",
       "      <td id=\"T_f0a4a_row2_col2\" class=\"data row2 col2\" >100.0%</td>\n",
       "    </tr>\n",
       "  </tbody>\n",
       "</table>\n"
      ],
      "text/plain": [
       "<pandas.io.formats.style.Styler at 0x1277d4fa0>"
      ]
     },
     "execution_count": 6,
     "metadata": {},
     "output_type": "execute_result"
    }
   ],
   "source": [
    "rets.corr().style.format('{:.1%}')"
   ]
  },
  {
   "cell_type": "markdown",
   "id": "e38ab2e1",
   "metadata": {},
   "source": [
    "#### Performance\n",
    "\n",
    "Without the adjustment, the stock splits and unaccounted dividends lead to a much lower mean and higher volatility."
   ]
  },
  {
   "cell_type": "code",
   "execution_count": 7,
   "id": "e3b12779",
   "metadata": {},
   "outputs": [
    {
     "data": {
      "text/html": [
       "<style type=\"text/css\">\n",
       "</style>\n",
       "<table id=\"T_5ff51\">\n",
       "  <thead>\n",
       "    <tr>\n",
       "      <th class=\"blank level0\" >&nbsp;</th>\n",
       "      <th id=\"T_5ff51_level0_col0\" class=\"col_heading level0 col0\" >Mean</th>\n",
       "      <th id=\"T_5ff51_level0_col1\" class=\"col_heading level0 col1\" >Vol</th>\n",
       "      <th id=\"T_5ff51_level0_col2\" class=\"col_heading level0 col2\" >Sharpe</th>\n",
       "      <th id=\"T_5ff51_level0_col3\" class=\"col_heading level0 col3\" >Min</th>\n",
       "      <th id=\"T_5ff51_level0_col4\" class=\"col_heading level0 col4\" >Max</th>\n",
       "    </tr>\n",
       "  </thead>\n",
       "  <tbody>\n",
       "    <tr>\n",
       "      <th id=\"T_5ff51_level0_row0\" class=\"row_heading level0 row0\" >Adjusted Price</th>\n",
       "      <td id=\"T_5ff51_row0_col0\" class=\"data row0 col0\" >38.3%</td>\n",
       "      <td id=\"T_5ff51_row0_col1\" class=\"data row0 col1\" >33.5%</td>\n",
       "      <td id=\"T_5ff51_row0_col2\" class=\"data row0 col2\" >114.5%</td>\n",
       "      <td id=\"T_5ff51_row0_col3\" class=\"data row0 col3\" >-17.9%</td>\n",
       "      <td id=\"T_5ff51_row0_col4\" class=\"data row0 col4\" >13.9%</td>\n",
       "    </tr>\n",
       "    <tr>\n",
       "      <th id=\"T_5ff51_level0_row1\" class=\"row_heading level0 row1\" >Unadjusted Price</th>\n",
       "      <td id=\"T_5ff51_row1_col0\" class=\"data row1 col0\" >25.8%</td>\n",
       "      <td id=\"T_5ff51_row1_col1\" class=\"data row1 col1\" >44.2%</td>\n",
       "      <td id=\"T_5ff51_row1_col2\" class=\"data row1 col2\" >58.5%</td>\n",
       "      <td id=\"T_5ff51_row1_col3\" class=\"data row1 col3\" >-85.5%</td>\n",
       "      <td id=\"T_5ff51_row1_col4\" class=\"data row1 col4\" >13.9%</td>\n",
       "    </tr>\n",
       "    <tr>\n",
       "      <th id=\"T_5ff51_level0_row2\" class=\"row_heading level0 row2\" >Unadjusted Price Modified</th>\n",
       "      <td id=\"T_5ff51_row2_col0\" class=\"data row2 col0\" >37.7%</td>\n",
       "      <td id=\"T_5ff51_row2_col1\" class=\"data row2 col1\" >33.5%</td>\n",
       "      <td id=\"T_5ff51_row2_col2\" class=\"data row2 col2\" >112.5%</td>\n",
       "      <td id=\"T_5ff51_row2_col3\" class=\"data row2 col3\" >-17.9%</td>\n",
       "      <td id=\"T_5ff51_row2_col4\" class=\"data row2 col4\" >13.9%</td>\n",
       "    </tr>\n",
       "  </tbody>\n",
       "</table>\n"
      ],
      "text/plain": [
       "<pandas.io.formats.style.Styler at 0x127839be0>"
      ]
     },
     "execution_count": 7,
     "metadata": {},
     "output_type": "execute_result"
    }
   ],
   "source": [
    "performanceMetrics(rets,annualization=252).style.format('{:.1%}')"
   ]
  },
  {
   "cell_type": "markdown",
   "id": "2cc260f3",
   "metadata": {},
   "source": [
    "## <span style=\"color:red\">Solution 2</span>"
   ]
  },
  {
   "cell_type": "code",
   "execution_count": 8,
   "id": "5ff9edfe",
   "metadata": {},
   "outputs": [
    {
     "data": {
      "text/html": [
       "<style type=\"text/css\">\n",
       "</style>\n",
       "<table id=\"T_8c4c2\">\n",
       "  <thead>\n",
       "    <tr>\n",
       "      <th class=\"blank level0\" >&nbsp;</th>\n",
       "      <th id=\"T_8c4c2_level0_col0\" class=\"col_heading level0 col0\" >SPY</th>\n",
       "      <th id=\"T_8c4c2_level0_col1\" class=\"col_heading level0 col1\" >UPRO</th>\n",
       "      <th id=\"T_8c4c2_level0_col2\" class=\"col_heading level0 col2\" >EEM</th>\n",
       "      <th id=\"T_8c4c2_level0_col3\" class=\"col_heading level0 col3\" >VGK</th>\n",
       "      <th id=\"T_8c4c2_level0_col4\" class=\"col_heading level0 col4\" >EWJ</th>\n",
       "      <th id=\"T_8c4c2_level0_col5\" class=\"col_heading level0 col5\" >IYR</th>\n",
       "      <th id=\"T_8c4c2_level0_col6\" class=\"col_heading level0 col6\" >DBC</th>\n",
       "      <th id=\"T_8c4c2_level0_col7\" class=\"col_heading level0 col7\" >HYG</th>\n",
       "      <th id=\"T_8c4c2_level0_col8\" class=\"col_heading level0 col8\" >TIP</th>\n",
       "      <th id=\"T_8c4c2_level0_col9\" class=\"col_heading level0 col9\" >BITO</th>\n",
       "    </tr>\n",
       "  </thead>\n",
       "  <tbody>\n",
       "    <tr>\n",
       "      <th id=\"T_8c4c2_level0_row0\" class=\"row_heading level0 row0\" >SPY beta</th>\n",
       "      <td id=\"T_8c4c2_row0_col0\" class=\"data row0 col0\" >1.00</td>\n",
       "      <td id=\"T_8c4c2_row0_col1\" class=\"data row0 col1\" >3.01</td>\n",
       "      <td id=\"T_8c4c2_row0_col2\" class=\"data row0 col2\" >1.05</td>\n",
       "      <td id=\"T_8c4c2_row0_col3\" class=\"data row0 col3\" >1.07</td>\n",
       "      <td id=\"T_8c4c2_row0_col4\" class=\"data row0 col4\" >0.74</td>\n",
       "      <td id=\"T_8c4c2_row0_col5\" class=\"data row0 col5\" >0.94</td>\n",
       "      <td id=\"T_8c4c2_row0_col6\" class=\"data row0 col6\" >0.44</td>\n",
       "      <td id=\"T_8c4c2_row0_col7\" class=\"data row0 col7\" >0.38</td>\n",
       "      <td id=\"T_8c4c2_row0_col8\" class=\"data row0 col8\" >-0.05</td>\n",
       "      <td id=\"T_8c4c2_row0_col9\" class=\"data row0 col9\" >1.68</td>\n",
       "    </tr>\n",
       "  </tbody>\n",
       "</table>\n"
      ],
      "text/plain": [
       "<pandas.io.formats.style.Styler at 0x1278d6e50>"
      ]
     },
     "execution_count": 8,
     "metadata": {},
     "output_type": "execute_result"
    }
   ],
   "source": [
    "LOADFILE = '../data/equity_data.xlsx'\n",
    "TAB = 'etf history'\n",
    "etfs = pd.read_excel(LOADFILE,sheet_name=TAB).set_index('date')\n",
    "spy = etfs[['SPY']]\n",
    "\n",
    "x = spy.pct_change().dropna()\n",
    "\n",
    "betas = pd.DataFrame(index=etfs.columns,dtype=float, columns=['SPY beta'])\n",
    "for col in etfs.columns:\n",
    "    y = etfs[[col]].pct_change().dropna()\n",
    "    y, x = y.align(x,join='inner',axis=0)\n",
    "    betas.loc[col] = LinearRegression().fit(x,y).coef_\n",
    "\n",
    "betas.T.style.format('{:.2f}')"
   ]
  }
 ],
 "metadata": {
  "hide_input": false,
  "kernelspec": {
   "display_name": "Python 3 (ipykernel)",
   "language": "python",
   "name": "python3"
  },
  "language_info": {
   "codemirror_mode": {
    "name": "ipython",
    "version": 3
   },
   "file_extension": ".py",
   "mimetype": "text/x-python",
   "name": "python",
   "nbconvert_exporter": "python",
   "pygments_lexer": "ipython3",
   "version": "3.9.6"
  }
 },
 "nbformat": 4,
 "nbformat_minor": 5
}
