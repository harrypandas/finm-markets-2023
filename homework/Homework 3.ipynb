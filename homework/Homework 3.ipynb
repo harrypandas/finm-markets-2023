{
 "cells": [
  {
   "cell_type": "markdown",
   "id": "cfbd6cd7",
   "metadata": {},
   "source": [
    "# Homework 3\n",
    "\n",
    "## Markets Foundations\n",
    "\n",
    "### UChicago Financial Mathematics\n",
    "\n",
    "#### September 2023\n",
    "\n",
    "* Mark Hendricks\n",
    "* hendricks@uchicago.edu\n",
    "\n",
    "#### This assignment is not submitted, graded, or for credit. \n",
    "Rather, it is assigned for learning purposes."
   ]
  },
  {
   "cell_type": "markdown",
   "id": "d8c9e3e1",
   "metadata": {
    "hidden": true
   },
   "source": [
    "$\\newcommand{\\rUSD}{r^{\\text{US}}}$\n",
    "$\\newcommand{\\rGBP}{r^{\\text{GBP}}}$\n",
    "$\\newcommand{\\rxGBP}{\\widetilde{r}^{\\text{GBP}}}$"
   ]
  },
  {
   "cell_type": "markdown",
   "id": "beed64d5",
   "metadata": {},
   "source": [
    "# 1 TIPS and Inflation"
   ]
  },
  {
   "cell_type": "markdown",
   "id": "e699a513",
   "metadata": {},
   "source": [
    "Use the data in `data/inflation_expectation_data.xlsx`"
   ]
  },
  {
   "cell_type": "markdown",
   "id": "c9f08ab5",
   "metadata": {},
   "source": [
    "## 1.1\n",
    "\n",
    "Use the **yields** for the 5-year nominal note and the 5-year TIPS to construct an index of expected 5-year inflation.\n",
    "\n",
    "* Plot the expected inflation over time\n",
    "* Report the minimum and maximum inflation expectations, and the dates on which they occured."
   ]
  },
  {
   "cell_type": "markdown",
   "id": "e6767862",
   "metadata": {},
   "source": [
    "## 1.2\n",
    "\n",
    "Use the data on **consumer prices** to construct year-over-year inflation.\n",
    "\n",
    "That is, measure inflation as the percentage change in CPI over 12 months, reported on a monthly basis.\n",
    "\n",
    "Plot CPI, and report its minimum and maximum values, along with the dates on which they occured."
   ]
  },
  {
   "cell_type": "markdown",
   "id": "c822adcd",
   "metadata": {},
   "source": [
    "## 1.3\n",
    "\n",
    "Calculate two monthly change series:\n",
    "1. Go back to the raw CPI data, and calculate its month-over-month percentage change. Denote this as $z^1_t$.\n",
    "\n",
    "2. Aggregate the inflation expectation series calculated above into a monthly series. Furthermore, take its month-over-month difference. Denote this as $z^2_t$. Consider using \n",
    "    * .resample('M').last()diff()\n",
    "\n",
    "### (a)\n",
    "Report the correlation between these two series, \n",
    "\n",
    "$$\\text{corr}(z^1_t,z^2_t)$$"
   ]
  },
  {
   "cell_type": "markdown",
   "id": "aadb2974",
   "metadata": {},
   "source": [
    "### (b)\n",
    "Does a change in CPI predict a futre change in the 5-year inflation expectation? Or vice-versa? Check by calculating the following two correlations:\n",
    "\n",
    "$$\\text{corr}(z^1_t,z^2_{t+1})$$\n",
    "\n",
    "$$\\text{corr}(z^1_{t+1},z^2_t)$$\n",
    "\n",
    "What do you conclude?"
   ]
  },
  {
   "cell_type": "markdown",
   "id": "e92b3583",
   "metadata": {},
   "source": [
    "***"
   ]
  },
  {
   "cell_type": "markdown",
   "id": "a4d5ee0b",
   "metadata": {},
   "source": [
    "# 2 Currency and Carry"
   ]
  },
  {
   "cell_type": "markdown",
   "id": "aeb07a9c",
   "metadata": {},
   "source": [
    "The problem is based on data in `data/fx_data.xlsx`.\n",
    "\n",
    "Use the `USUK` column of the tab, `fx rates`, which gives the **direct** exchange rate between the pound (sterling) and USD. (Being a direct quote means the exchange rates are listed as dollars per foreign currency.)\n",
    "\n",
    "Combine this with the overnight interest rates given in the `interest rates` tab. Note that `SONIA` is the British overnight rate.\n",
    "\n",
    "Both SOFR and SONIA are quoted as annualized rates. As is typical with money-market rates, they are scaled by 360 to annualize. Thus, in the calculations below, be careful to divide them by 360."
   ]
  },
  {
   "cell_type": "markdown",
   "id": "bf9847d7",
   "metadata": {},
   "source": [
    "## 2.1\n",
    "\n",
    "Using all these, calculate the time-series of returns to investing in the pound (from a US perspective.)\n",
    "\n",
    "Denote this as $\\rGBP$.\n",
    "\n",
    "* Plot the cumulative return series for $\\rGBP$. That is, if the time-series of daily returns is `retsGBP`, then plot `(1+retsGBP).cumprod().plot()`.\n",
    "\n",
    "* For comparison, plot the cumulative return of just investing in the US overnight rate, SOFR.\n",
    "\n",
    "\n",
    "## 2.2\n",
    "Report the mean of the excess return,\n",
    "\n",
    "$$\\rxGBP \\equiv \\rGBP - \\rUSD$$\n",
    "\n",
    "which is the return of investing in pounds sterling minus the US SOFR rate. This is giving the excess return earned in the instance that the investor is borrowing with SOFR and investing it in pounds sterling.\n",
    "\n",
    "* Annualize the mean excess return, (by multiplying by 360.)\n",
    "\n",
    "Would this carry trade have been profitable over this period?\n",
    "\n",
    "## 2.3\n",
    "Was the interest rate differential positive or negative, (on average,) over this time?\n",
    "\n",
    "If the carry trade was not profitable, describe step-by-step how one could take the opposite (short) side of this carry trade.\n",
    "\n",
    "## EXTRA 2.4\n",
    "\n",
    "Calculate the profit of shorting GBP on notional of £1mm GBP. \n",
    "* Assume that the notional is rebalanced every day to simplify the calculation. This allows you to simply calculate the excess return timeseries and multiply it by the notional."
   ]
  }
 ],
 "metadata": {
  "hide_input": false,
  "kernelspec": {
   "display_name": "Python 3 (ipykernel)",
   "language": "python",
   "name": "python3"
  },
  "language_info": {
   "codemirror_mode": {
    "name": "ipython",
    "version": 3
   },
   "file_extension": ".py",
   "mimetype": "text/x-python",
   "name": "python",
   "nbconvert_exporter": "python",
   "pygments_lexer": "ipython3",
   "version": "3.9.6"
  },
  "toc": {
   "base_numbering": 1,
   "nav_menu": {},
   "number_sections": false,
   "sideBar": true,
   "skip_h1_title": false,
   "title_cell": "Table of Contents",
   "title_sidebar": "Contents",
   "toc_cell": false,
   "toc_position": {},
   "toc_section_display": true,
   "toc_window_display": false
  }
 },
 "nbformat": 4,
 "nbformat_minor": 5
}
