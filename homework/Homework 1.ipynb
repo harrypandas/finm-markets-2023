{
 "cells": [
  {
   "cell_type": "code",
   "execution_count": 3,
   "id": "3a8412c9",
   "metadata": {},
   "outputs": [],
   "source": [
    "#testing testing 123 \n",
    "import pandas as pd"
   ]
  },
  {
   "cell_type": "markdown",
   "id": "f37aadf6",
   "metadata": {},
   "source": [
    "# Homework 1\n",
    "\n",
    "## Markets Foundations\n",
    "\n",
    "### UChicago Financial Mathematics\n",
    "\n",
    "#### September 2023\n",
    "\n",
    "* Mark Hendricks\n",
    "* hendricks@uchicago.edu\n",
    "\n",
    "#### This assignment is not submitted, graded, or for credit. \n",
    "Rather, it is assigned for learning purposes."
   ]
  },
  {
   "cell_type": "markdown",
   "id": "bbaf0451",
   "metadata": {
    "heading_collapsed": true
   },
   "source": [
    "# Data\n",
    "\n",
    "This assignment uses the data file `../data/treasury_quotes_2023-06-30.xlsx`."
   ]
  },
  {
   "cell_type": "markdown",
   "id": "0d7e6014",
   "metadata": {},
   "source": [
    "***"
   ]
  },
  {
   "cell_type": "markdown",
   "id": "0f6700ce",
   "metadata": {
    "heading_collapsed": true
   },
   "source": [
    "# 1. Treasury Debt Composition"
   ]
  },
  {
   "cell_type": "markdown",
   "id": "682b396f",
   "metadata": {
    "hidden": true
   },
   "source": [
    "## Note\n",
    "\n",
    "The `ITYPE` column identifies\n",
    "* 1: bonds\n",
    "* 2: notes\n",
    "* 4: bills\n",
    "* 11: TIPS notes\n",
    "* 12: TIPS bonds\n",
    "\n",
    "The column `TDPUBOUT` lists the dollar size of the issue (public debt outstanding.)\n",
    "\n",
    "The data source does not list the issue size for the T-bills, which is why we are not segmenting those out separately.\n",
    "\n",
    "*Tip* `.pivot_table()` may be useful.\n",
    "\n",
    "## 1.1\n",
    "Plot the total amount of outstanding debt maturing at each date\n",
    "\n",
    "## 1.2\n",
    "Plot the amount of outstanding debt maturing at each date, segmented by bonds, notes, TIPS (combined ITYPE of 11 and 12.)\n",
    "\n",
    "## 1.3\n",
    "Report the total outstanding debt (summed over all maturity dates,) segmented by bonds, notes, TIPS.\n",
    "\n",
    "## 1.4\n",
    "Make a pie chart of this total number (reported in 1.3.) "
   ]
  },
  {
   "cell_type": "markdown",
   "id": "133bfafd",
   "metadata": {},
   "source": [
    "***"
   ]
  },
  {
   "cell_type": "markdown",
   "id": "412902cc",
   "metadata": {
    "heading_collapsed": true
   },
   "source": [
    "# 2 Bond Metrics"
   ]
  },
  {
   "cell_type": "markdown",
   "id": "7622bfbe",
   "metadata": {
    "hidden": true
   },
   "source": [
    "## 2.1\n",
    "\n",
    "Calculate the time-to-maturity (relative to the quoted date of `2023-05-31`) for each issue.\n",
    "\n",
    "Use the `TMATDT` column to get the maturity date.\n",
    "\n",
    "Report the summary statistics of these time-to-maturities. (Consider using .describe()).\n",
    "\n",
    "## 2.2\n",
    "Plot the time-to-maturity against the provided YTM, (column `TDYLD`.)\n",
    "\n",
    "## 2.3\n",
    "\n",
    "For the Treasury bills, calculate the **discount yields**.\n",
    "\n",
    "Identify the T-bills using `ITYPE`=4 or looking for `TCOUPRT` of 0.\n",
    "\n",
    "## 2.4\n",
    "\n",
    "Write a function to calculate the yield-to-maturity for a semiannual coupon bond with the following stylized parameters: \n",
    "* time-to-maturity of 30 years\n",
    "* coupon rate: 3%\n",
    "* price: \\$87\n",
    "\n",
    "You will need to use a nonlinear solver to solve for the YTM.\n",
    "\n",
    "#### Hint \n",
    "Consider using `fsolve` to solve the yield implicitly from the nonlinear equation. To that point, try\n",
    "\n",
    "`from scipy.optimize import fsolve`\n",
    "\n",
    "\n",
    "## 2.5 Extra\n",
    "\n",
    "Calculate the YTM of each bond issue in the data. Note that you will get a better YTM estimate if you use a price that is...\n",
    "* the mean of the **bid** (`TDBID`) and **ask** (`TDASK`)\n",
    "* includes the **accrued interest** (`TDACCINT`)\n",
    "\n",
    "Report how far your YTM calculation is from those reported in the data set.\n",
    "\n",
    "Report your calculated YTM for the issues where the dataset does not compute a YTM."
   ]
  }
 ],
 "metadata": {
  "hide_input": false,
  "kernelspec": {
   "display_name": "Python 3 (ipykernel)",
   "language": "python",
   "name": "python3"
  },
  "language_info": {
   "codemirror_mode": {
    "name": "ipython",
    "version": 3
   },
   "file_extension": ".py",
   "mimetype": "text/x-python",
   "name": "python",
   "nbconvert_exporter": "python",
   "pygments_lexer": "ipython3",
   "version": "3.9.12"
  },
  "toc": {
   "base_numbering": 1,
   "nav_menu": {},
   "number_sections": false,
   "sideBar": true,
   "skip_h1_title": false,
   "title_cell": "Table of Contents",
   "title_sidebar": "Contents",
   "toc_cell": false,
   "toc_position": {},
   "toc_section_display": true,
   "toc_window_display": false
  }
 },
 "nbformat": 4,
 "nbformat_minor": 5
}
